{
 "cells": [
  {
   "cell_type": "markdown",
   "metadata": {
    "_uuid": "5c57a1555d5a5b3ed0008293772c3f231e5bc77a"
   },
   "source": [
    "<html>\n",
    "    <body>\n",
    "         <img src = \"https://upload.wikimedia.org/wikipedia/commons/1/16/Driver_free_car.jpg\" >\n",
    "        <br/>\n",
    "        <p>\n",
    "We all know Self Driving Cars is one of the hottest areas of research and business for the tech giants. What seemed like a science-fiction, a few years ago, now seems more like  something which is soon to become a part and parcel of our regular life. Companies like Tesla, Nissan, Cadillac do have self-driving car assistance software, but, they still require a human to keep an eye on the road and take control when needed. However, it is fascinating to see how far we have come in terms of innovation and how fast technology is advancing. So much so, that now, with the help of basic deep learning, neural network magic, we can build our own pipeline for autonomous driving using Deep Learning Methodologies.</p>\n",
    "        <pre>\n",
    "<a id = \"main\"><b>Contents</b></a>\n",
    "<a href = \"#1\"><b> - Import Packages</b></a>\n",
    "<a href = \"#2\"><b> - Load the Training Data</b></a>\n",
    "<a href = \"#21\"><b> - Distribution of Skewness values per column in the Dataset</b></a>\n",
    "<a href = \"#22\"><b> - Distribution of Kurtosis values per row in the Dataset</b></a>\n",
    "<a href = \"#3\"><b> - Create Sequential Model</b></a>\n",
    "<a href = \"#4\"><b> - Serialize the Data</b></a>\n",
    "<a href = \"#5\"><b> - Fit The Training Data</b></a>\n",
    "<a href = \"#6\"><b> - Evaluating the Model Performance</b></a>\n",
    "</pre>\n",
    "    </body>\n",
    "</html>"
   ]
  },
  {
   "cell_type": "markdown",
   "metadata": {
    "_uuid": "a5b2b23f53c6ed49b3eeaab151f96d1362c8d74e"
   },
   "source": [
    "<b><a id = 1><pre>Import Packages</pre></a></b>"
   ]
  },
  {
   "cell_type": "code",
   "execution_count": 1,
   "metadata": {
    "_uuid": "6994ee277f40935e3f08623cc4d730879b72bb59"
   },
   "outputs": [
    {
     "name": "stderr",
     "output_type": "stream",
     "text": [
      "Using TensorFlow backend.\n"
     ]
    }
   ],
   "source": [
    "import numpy as np\n",
    "from __future__ import division\n",
    "import random\n",
    "from keras.callbacks import History \n",
    "from keras.layers import Dense, Activation, Flatten, Conv2D, Lambda\n",
    "from keras.layers import MaxPooling2D, Dropout,UpSampling2D\n",
    "from keras.utils import print_summary\n",
    "from keras.models import Sequential, Model\n",
    "from keras.callbacks import ModelCheckpoint\n",
    "from keras.callbacks import EarlyStopping\n",
    "from keras.optimizers import Adam\n",
    "import keras.backend as K\n",
    "import pickle\n",
    "import csv\n",
    "import cv2\n",
    "import os\n",
    "import numpy as np\n",
    "import scipy\n",
    "import pickle\n",
    "import matplotlib.pyplot as plt\n",
    "from itertools import islice\n",
    "import warnings\n",
    "import pandas as pd\n",
    "import tensorflow as tf\n",
    "from sklearn.model_selection import train_test_split\n",
    "from sklearn.utils import shuffle\n",
    "from keras.models import load_model\n",
    "import keras.utils\n",
    "from keras.layers.normalization import BatchNormalization\n",
    "\n",
    "#For Visualizations\n",
    "from scipy.stats import norm, skew\n",
    "import matplotlib\n",
    "import matplotlib.pyplot as plt\n",
    "import seaborn as sns\n",
    "# Any results you write to the current directory are saved as output."
   ]
  },
  {
   "cell_type": "markdown",
   "metadata": {
    "_uuid": "e1d2271756bd6d7ac827eece75d68d862b526439"
   },
   "source": [
    "<pre><b><a id = 2>Load the Training Data</b></a></pre>"
   ]
  },
  {
   "cell_type": "code",
   "execution_count": 2,
   "metadata": {
    "_uuid": "3445e18f8df44fa4c7340dadcb020cd68f8cca30",
    "scrolled": true
   },
   "outputs": [
    {
     "name": "stdout",
     "output_type": "stream",
     "text": [
      "['training', 'train-data']\n"
     ]
    }
   ],
   "source": [
    "print(os.listdir('../input/'))"
   ]
  },
  {
   "cell_type": "code",
   "execution_count": 3,
   "metadata": {
    "_uuid": "e0d3b1c1ed59adc77863d966fbe88ea0724b541e"
   },
   "outputs": [],
   "source": [
    "features_directory = '../input/training/training data/Training Data/'\n",
    "labels_file = '../input/train-data/train_Data.txt'"
   ]
  },
  {
   "cell_type": "code",
   "execution_count": 4,
   "metadata": {
    "_uuid": "94b7e716444b1d564049358dde8f720e5e8d7cfc"
   },
   "outputs": [],
   "source": [
    "def image_preprocessing(img):\n",
    "    resized_image = cv2.resize((cv2.cvtColor(img, cv2.COLOR_RGB2HSV))[:, :, 1], (100, 100))\n",
    "    return resized_image"
   ]
  },
  {
   "cell_type": "code",
   "execution_count": 5,
   "metadata": {
    "_uuid": "ff970284bdaab89ca8ee02d279b51eed273255b2"
   },
   "outputs": [],
   "source": [
    "def Load_training():\n",
    "    X = []\n",
    "    y = []\n",
    "    features = []\n",
    "\n",
    "    with open(labels_file) as fp:\n",
    "        for line in fp:\n",
    "            X.append(features_directory + line.split()[0])\n",
    "            y.append(float(line.split()[1]) * scipy.pi / 180)\n",
    "\n",
    "    for i in range(len(X)):\n",
    "        img = plt.imread(X[i])\n",
    "        features.append(image_preprocessing(img))\n",
    "    \n",
    "    return features, y"
   ]
  },
  {
   "cell_type": "code",
   "execution_count": 6,
   "metadata": {
    "_uuid": "ca6e64e9df772dcf4a79dbc64a3b7dec23fea83d"
   },
   "outputs": [],
   "source": [
    "features, labels = Load_training()\n",
    "\n",
    "features = np.array(features).astype('float32')\n",
    "labels = np.array(labels).astype('float32')\n",
    "\n",
    "with open(\"features\", \"wb\") as f:\n",
    "    pickle.dump(features, f, protocol=4)\n",
    "with open(\"labels\", \"wb\") as f:\n",
    "    pickle.dump(labels, f, protocol=4)"
   ]
  },
  {
   "cell_type": "code",
   "execution_count": 7,
   "metadata": {
    "_uuid": "de5608c964867cbd8c173ed414dd5e1a5d10e508"
   },
   "outputs": [
    {
     "data": {
      "text/plain": [
       "(15101, 100, 100)"
      ]
     },
     "execution_count": 7,
     "metadata": {},
     "output_type": "execute_result"
    }
   ],
   "source": [
    "features.shape"
   ]
  },
  {
   "cell_type": "code",
   "execution_count": 8,
   "metadata": {
    "_uuid": "a678348be637d15301fa78870f356205d45f8fab"
   },
   "outputs": [
    {
     "data": {
      "text/plain": [
       "(15101,)"
      ]
     },
     "execution_count": 8,
     "metadata": {},
     "output_type": "execute_result"
    }
   ],
   "source": [
    "labels.shape"
   ]
  },
  {
   "cell_type": "markdown",
   "metadata": {
    "_uuid": "b7cefcf6b91803bbcbb6ef48c7a5e173ce0e1dbb"
   },
   "source": [
    "<pre><b>I used Panel to convert the X and Y into Data Frames to perform 2-D Visualizations</pre></b>"
   ]
  },
  {
   "cell_type": "code",
   "execution_count": 9,
   "metadata": {
    "_uuid": "99c5091890e0214b2197795b8e210a95e669c6fc"
   },
   "outputs": [],
   "source": [
    "import warnings\n",
    "import pandas as pd\n",
    "\n",
    "warnings.filterwarnings('ignore')\n",
    "\n",
    "pan = pd.Panel(features)\n",
    "df = pan.swapaxes(1, 2).to_frame()\n",
    "df.index = df.index.droplevel('major')\n",
    "df.index = df.index+1"
   ]
  },
  {
   "cell_type": "code",
   "execution_count": 10,
   "metadata": {
    "_uuid": "cd987e9f78b19fa1d4fd8c2c9a48eb1285657b1c"
   },
   "outputs": [
    {
     "data": {
      "text/plain": [
       "(10000, 15101)"
      ]
     },
     "execution_count": 10,
     "metadata": {},
     "output_type": "execute_result"
    }
   ],
   "source": [
    "import gc\n",
    "df.shape"
   ]
  },
  {
   "cell_type": "markdown",
   "metadata": {
    "_uuid": "889364af127eb565aa2fe3e5295238e71fdadfd2"
   },
   "source": [
    "<pre><b><a id = 21>Distribution of Skewness values per column in the Dataset</b></a></pre>"
   ]
  },
  {
   "cell_type": "code",
   "execution_count": 11,
   "metadata": {
    "_uuid": "0e68910c5d235b0ff07e9279be1eb155ebc190a1"
   },
   "outputs": [
    {
     "data": {
      "image/png": "[encoded data removed]",
      "text/plain": [
       "<Figure size 1152x432 with 1 Axes>"
      ]
     },
     "metadata": {},
     "output_type": "display_data"
    }
   ],
   "source": [
    "%matplotlib inline\n",
    "plt.style.use('seaborn')\n",
    "\n",
    "plt.figure(figsize=(16,6))\n",
    "plt.title(\"Distribution of Skewness values per column in the Data set\")\n",
    "sns.distplot(df.skew(axis=0),color=\"blue\", kde=True,bins=120, label='train')\n",
    "plt.legend()\n",
    "plt.show()"
   ]
  },
  {
   "cell_type": "markdown",
   "metadata": {
    "_uuid": "4b784fac98d93d7de2c4ee85472db386a9c8464f"
   },
   "source": [
    "<pre><b><a id = 22>Distribution of Kurtosis values per row in the Dataset</b></a></pre>"
   ]
  },
  {
   "cell_type": "code",
   "execution_count": 12,
   "metadata": {
    "_uuid": "1664b832d497e7bc687837f4495eb77ec28d2baf"
   },
   "outputs": [
    {
     "data": {
      "image/png": "[encoded data removed]",
      "text/plain": [
       "<Figure size 1152x432 with 1 Axes>"
      ]
     },
     "metadata": {},
     "output_type": "display_data"
    }
   ],
   "source": [
    "%matplotlib inline\n",
    "plt.style.use('seaborn')\n",
    "\n",
    "plt.figure(figsize=(16,6))\n",
    "plt.title(\"Distribution of Kurtosis values per column in the Data set\")\n",
    "sns.distplot(df.kurtosis(axis=0),color=\"green\", kde=True,bins=120, label='train')\n",
    "plt.legend()\n",
    "plt.show()"
   ]
  },
  {
   "cell_type": "markdown",
   "metadata": {
    "_uuid": "9d448fc194824dc097ba7a66ce29c50082406353"
   },
   "source": [
    "<pre><b><a id = 3>Create AutoEncoder Model (Encoder = CNN, Decoder = CNN)</b></a></pre>"
   ]
  },
  {
   "cell_type": "code",
   "execution_count": 13,
   "metadata": {},
   "outputs": [],
   "source": [
    "def keras_model(image_x, image_y):\n",
    "    \n",
    "    model = Sequential()\n",
    "    model.add(Lambda(lambda x: x / 127.5 - 1., input_shape=(100, 100, 1)))\n",
    "    \n",
    "    model.add(Conv2D(128, (3, 3), activation='relu', padding='same'))\n",
    "    model.add(BatchNormalization())\n",
    "    model.add(MaxPooling2D((2, 2), padding='valid'))\n",
    "    \n",
    "    model.add(Conv2D(64, (3, 3), activation='relu', padding='same'))\n",
    "    model.add(BatchNormalization())\n",
    "    model.add(MaxPooling2D((2, 2), padding='valid'))\n",
    "    \n",
    "    model.add(Conv2D(32, (3, 3), activation='relu', padding='same'))\n",
    "    model.add(BatchNormalization())\n",
    "    model.add(MaxPooling2D((2, 2), padding='valid'))\n",
    "    \n",
    "    #decoder\n",
    "    model.add(Conv2D(32, (3, 3), activation='relu', padding='same'))\n",
    "    model.add(BatchNormalization())\n",
    "    model.add(UpSampling2D((2, 2)))\n",
    "    \n",
    "    model.add(Conv2D(64, (3, 3), activation='relu', padding='same'))\n",
    "    model.add(BatchNormalization())\n",
    "    model.add(UpSampling2D((2, 2)))\n",
    "    \n",
    "    model.add(Conv2D(128, (3, 3), activation='relu', padding='same'))\n",
    "    model.add(BatchNormalization())\n",
    "    model.add(UpSampling2D((2, 2)))\n",
    "    \n",
    "    model.add(Conv2D(1, (3, 3), activation='relu', padding='same'))\n",
    "    model.add(Flatten())\n",
    "    model.add(Dropout(0.5))\n",
    "    model.add(Dense(64))\n",
    "    model.add(Dense(1))\n",
    "\n",
    "    model.compile(optimizer=Adam(lr=0.0001), loss=\"mse\")\n",
    "    \n",
    "    model.summary()\n",
    "    return model"
   ]
  },
  {
   "cell_type": "markdown",
   "metadata": {
    "_uuid": "571d999d63011d7241de0c30902bfc51f926c1c6"
   },
   "source": [
    "<pre><b><a id = 4>Serialize the Data</b></a></pre>"
   ]
  },
  {
   "cell_type": "code",
   "execution_count": 14,
   "metadata": {
    "_uuid": "6fb2ea99eaf1df14907bbea0b6a01ce8e8cbbd51"
   },
   "outputs": [],
   "source": [
    "def loadFromPickle():\n",
    "    with open(\"features\", \"rb\") as f:\n",
    "        features = np.array(pickle.load(f))\n",
    "    with open(\"labels\", \"rb\") as f:\n",
    "        labels = np.array(pickle.load(f))\n",
    "    return features, labels"
   ]
  },
  {
   "cell_type": "markdown",
   "metadata": {
    "_uuid": "c7817898adbc68016f7e118cfa9cf7bd1178b32f"
   },
   "source": [
    "<pre><b><a id = 5>Fit The Training Data</b></a></pre>\n"
   ]
  },
  {
   "cell_type": "code",
   "execution_count": 15,
   "metadata": {
    "_uuid": "e04dee1fba50231734da4254c2b96334ab471ca1",
    "scrolled": true
   },
   "outputs": [
    {
     "name": "stdout",
     "output_type": "stream",
     "text": [
      "WARNING:tensorflow:From /opt/conda/lib/python3.6/site-packages/tensorflow/python/framework/op_def_library.py:263: colocate_with (from tensorflow.python.framework.ops) is deprecated and will be removed in a future version.\n",
      "Instructions for updating:\n",
      "Colocations handled automatically by placer.\n",
      "WARNING:tensorflow:From /opt/conda/lib/python3.6/site-packages/keras/backend/tensorflow_backend.py:3445: calling dropout (from tensorflow.python.ops.nn_ops) with keep_prob is deprecated and will be removed in a future version.\n",
      "Instructions for updating:\n",
      "Please use `rate` instead of `keep_prob`. Rate should be set to `rate = 1 - keep_prob`.\n",
      "_________________________________________________________________\n",
      "Layer (type)                 Output Shape              Param #   \n",
      "=================================================================\n",
      "lambda_1 (Lambda)            (None, 100, 100, 1)       0         \n",
      "_________________________________________________________________\n",
      "conv2d_1 (Conv2D)            (None, 100, 100, 128)     1280      \n",
      "_________________________________________________________________\n",
      "batch_normalization_1 (Batch (None, 100, 100, 128)     512       \n",
      "_________________________________________________________________\n",
      "max_pooling2d_1 (MaxPooling2 (None, 50, 50, 128)       0         \n",
      "_________________________________________________________________\n",
      "conv2d_2 (Conv2D)            (None, 50, 50, 64)        73792     \n",
      "_________________________________________________________________\n",
      "batch_normalization_2 (Batch (None, 50, 50, 64)        256       \n",
      "_________________________________________________________________\n",
      "max_pooling2d_2 (MaxPooling2 (None, 25, 25, 64)        0         \n",
      "_________________________________________________________________\n",
      "conv2d_3 (Conv2D)            (None, 25, 25, 32)        18464     \n",
      "_________________________________________________________________\n",
      "batch_normalization_3 (Batch (None, 25, 25, 32)        128       \n",
      "_________________________________________________________________\n",
      "max_pooling2d_3 (MaxPooling2 (None, 12, 12, 32)        0         \n",
      "_________________________________________________________________\n",
      "conv2d_4 (Conv2D)            (None, 12, 12, 32)        9248      \n",
      "_________________________________________________________________\n",
      "batch_normalization_4 (Batch (None, 12, 12, 32)        128       \n",
      "_________________________________________________________________\n",
      "up_sampling2d_1 (UpSampling2 (None, 24, 24, 32)        0         \n",
      "_________________________________________________________________\n",
      "conv2d_5 (Conv2D)            (None, 24, 24, 64)        18496     \n",
      "_________________________________________________________________\n",
      "batch_normalization_5 (Batch (None, 24, 24, 64)        256       \n",
      "_________________________________________________________________\n",
      "up_sampling2d_2 (UpSampling2 (None, 48, 48, 64)        0         \n",
      "_________________________________________________________________\n",
      "conv2d_6 (Conv2D)            (None, 48, 48, 128)       73856     \n",
      "_________________________________________________________________\n",
      "batch_normalization_6 (Batch (None, 48, 48, 128)       512       \n",
      "_________________________________________________________________\n",
      "up_sampling2d_3 (UpSampling2 (None, 96, 96, 128)       0         \n",
      "_________________________________________________________________\n",
      "conv2d_7 (Conv2D)            (None, 96, 96, 1)         1153      \n",
      "_________________________________________________________________\n",
      "flatten_1 (Flatten)          (None, 9216)              0         \n",
      "_________________________________________________________________\n",
      "dropout_1 (Dropout)          (None, 9216)              0         \n",
      "_________________________________________________________________\n",
      "dense_1 (Dense)              (None, 64)                589888    \n",
      "_________________________________________________________________\n",
      "dense_2 (Dense)              (None, 1)                 65        \n",
      "=================================================================\n",
      "Total params: 788,034\n",
      "Trainable params: 787,138\n",
      "Non-trainable params: 896\n",
      "_________________________________________________________________\n",
      "WARNING:tensorflow:From /opt/conda/lib/python3.6/site-packages/tensorflow/python/ops/math_ops.py:3066: to_int32 (from tensorflow.python.ops.math_ops) is deprecated and will be removed in a future version.\n",
      "Instructions for updating:\n",
      "Use tf.cast instead.\n",
      "Train on 10872 samples, validate on 1208 samples\n",
      "Epoch 1/20\n",
      "10872/10872 [==============================] - 16s 1ms/step - loss: 1.3923 - val_loss: 0.3549\n",
      "\n",
      "Epoch 00001: val_loss improved from inf to 0.35489, saving model to ./SelfDriving_AutoEncoder.h5\n",
      "Epoch 2/20\n",
      "10872/10872 [==============================] - 13s 1ms/step - loss: 0.4303 - val_loss: 0.2444\n",
      "\n",
      "Epoch 00002: val_loss improved from 0.35489 to 0.24440, saving model to ./SelfDriving_AutoEncoder.h5\n",
      "Epoch 3/20\n",
      "10872/10872 [==============================] - 13s 1ms/step - loss: 0.2715 - val_loss: 0.1806\n",
      "\n",
      "Epoch 00003: val_loss improved from 0.24440 to 0.18059, saving model to ./SelfDriving_AutoEncoder.h5\n",
      "Epoch 4/20\n",
      "10872/10872 [==============================] - 13s 1ms/step - loss: 0.1963 - val_loss: 0.1247\n",
      "\n",
      "Epoch 00004: val_loss improved from 0.18059 to 0.12475, saving model to ./SelfDriving_AutoEncoder.h5\n",
      "Epoch 5/20\n",
      "10872/10872 [==============================] - 13s 1ms/step - loss: 0.1458 - val_loss: 0.1162\n",
      "\n",
      "Epoch 00005: val_loss improved from 0.12475 to 0.11616, saving model to ./SelfDriving_AutoEncoder.h5\n",
      "Epoch 6/20\n",
      "10872/10872 [==============================] - 13s 1ms/step - loss: 0.1074 - val_loss: 0.1029\n",
      "\n",
      "Epoch 00006: val_loss improved from 0.11616 to 0.10285, saving model to ./SelfDriving_AutoEncoder.h5\n",
      "Epoch 7/20\n",
      "10872/10872 [==============================] - 13s 1ms/step - loss: 0.0848 - val_loss: 0.0852\n",
      "\n",
      "Epoch 00007: val_loss improved from 0.10285 to 0.08518, saving model to ./SelfDriving_AutoEncoder.h5\n",
      "Epoch 8/20\n",
      "10872/10872 [==============================] - 13s 1ms/step - loss: 0.0820 - val_loss: 0.0887\n",
      "\n",
      "Epoch 00008: val_loss did not improve from 0.08518\n",
      "Epoch 00008: early stopping\n",
      "_________________________________________________________________\n",
      "Layer (type)                 Output Shape              Param #   \n",
      "=================================================================\n",
      "lambda_1 (Lambda)            (None, 100, 100, 1)       0         \n",
      "_________________________________________________________________\n",
      "conv2d_1 (Conv2D)            (None, 100, 100, 128)     1280      \n",
      "_________________________________________________________________\n",
      "batch_normalization_1 (Batch (None, 100, 100, 128)     512       \n",
      "_________________________________________________________________\n",
      "max_pooling2d_1 (MaxPooling2 (None, 50, 50, 128)       0         \n",
      "_________________________________________________________________\n",
      "conv2d_2 (Conv2D)            (None, 50, 50, 64)        73792     \n",
      "_________________________________________________________________\n",
      "batch_normalization_2 (Batch (None, 50, 50, 64)        256       \n",
      "_________________________________________________________________\n",
      "max_pooling2d_2 (MaxPooling2 (None, 25, 25, 64)        0         \n",
      "_________________________________________________________________\n",
      "conv2d_3 (Conv2D)            (None, 25, 25, 32)        18464     \n",
      "_________________________________________________________________\n",
      "batch_normalization_3 (Batch (None, 25, 25, 32)        128       \n",
      "_________________________________________________________________\n",
      "max_pooling2d_3 (MaxPooling2 (None, 12, 12, 32)        0         \n",
      "_________________________________________________________________\n",
      "conv2d_4 (Conv2D)            (None, 12, 12, 32)        9248      \n",
      "_________________________________________________________________\n",
      "batch_normalization_4 (Batch (None, 12, 12, 32)        128       \n",
      "_________________________________________________________________\n",
      "up_sampling2d_1 (UpSampling2 (None, 24, 24, 32)        0         \n",
      "_________________________________________________________________\n",
      "conv2d_5 (Conv2D)            (None, 24, 24, 64)        18496     \n",
      "_________________________________________________________________\n",
      "batch_normalization_5 (Batch (None, 24, 24, 64)        256       \n",
      "_________________________________________________________________\n",
      "up_sampling2d_2 (UpSampling2 (None, 48, 48, 64)        0         \n",
      "_________________________________________________________________\n",
      "conv2d_6 (Conv2D)            (None, 48, 48, 128)       73856     \n",
      "_________________________________________________________________\n",
      "batch_normalization_6 (Batch (None, 48, 48, 128)       512       \n",
      "_________________________________________________________________\n",
      "up_sampling2d_3 (UpSampling2 (None, 96, 96, 128)       0         \n",
      "_________________________________________________________________\n",
      "conv2d_7 (Conv2D)            (None, 96, 96, 1)         1153      \n",
      "_________________________________________________________________\n",
      "flatten_1 (Flatten)          (None, 9216)              0         \n",
      "_________________________________________________________________\n",
      "dropout_1 (Dropout)          (None, 9216)              0         \n",
      "_________________________________________________________________\n",
      "dense_1 (Dense)              (None, 64)                589888    \n",
      "_________________________________________________________________\n",
      "dense_2 (Dense)              (None, 1)                 65        \n",
      "=================================================================\n",
      "Total params: 788,034\n",
      "Trainable params: 787,138\n",
      "Non-trainable params: 896\n",
      "_________________________________________________________________\n"
     ]
    }
   ],
   "source": [
    "warnings.filterwarnings('ignore')\n",
    "\n",
    "features, labels = loadFromPickle()\n",
    "features, labels = shuffle(features, labels)\n",
    "\n",
    "#do a Train Test Split\n",
    "train_x, test_x, train_y, test_y = train_test_split(features, labels, random_state=42, test_size=0.20)\n",
    "train_x, val_x, train_y, val_y = train_test_split(train_x, train_y, random_state=42, test_size=0.10)\n",
    "\n",
    "train_x = train_x.reshape(train_x.shape[0], 100, 100, 1)\n",
    "val_x = val_x.reshape(val_x.shape[0], 100, 100, 1)\n",
    "\n",
    "model = keras_model(100,100)\n",
    "filepath = \"./SelfDriving_AutoEncoder.h5\"\n",
    "\n",
    "es = EarlyStopping(monitor='val_loss', verbose=1)\n",
    "checkpoint = ModelCheckpoint(filepath, verbose=1,monitor='val_loss', save_best_only=True)\n",
    "hist = History()\n",
    "callbacks_list = [es,checkpoint,hist]\n",
    "    \n",
    "model.fit(train_x, train_y, validation_data=(val_x, val_y), epochs=20, batch_size=32,callbacks=callbacks_list)\n",
    "\n",
    "print_summary(model)\n",
    "\n",
    "model.save(filepath)"
   ]
  },
  {
   "cell_type": "markdown",
   "metadata": {
    "_uuid": "bea1f04dc1ec587d28b02da54a813b66e9a97ab3"
   },
   "source": [
    "<pre><b><a id = 6>Evaluating the Model Performance</b></a></pre>"
   ]
  },
  {
   "cell_type": "code",
   "execution_count": 16,
   "metadata": {
    "_uuid": "9f304ba538245c45e8fa3b106e8d81dcf49c9f1d"
   },
   "outputs": [
    {
     "data": {
      "image/png": "[encoded data removed]",
      "text/plain": [
       "<Figure size 576x396 with 1 Axes>"
      ]
     },
     "metadata": {},
     "output_type": "display_data"
    }
   ],
   "source": [
    "plt.plot(hist.history['loss'])\n",
    "plt.plot(hist.history['val_loss'])\n",
    "plt.title('Model Loss')\n",
    "plt.ylabel('Loss')\n",
    "plt.xlabel('Epochs')\n",
    "plt.legend(['train', 'validation'])\n",
    "plt.show()"
   ]
  }
 ],
 "metadata": {
  "kernelspec": {
   "display_name": "Python 3",
   "language": "python",
   "name": "python3"
  },
  "language_info": {
   "codemirror_mode": {
    "name": "ipython",
    "version": 3
   },
   "file_extension": ".py",
   "mimetype": "text/x-python",
   "name": "python",
   "nbconvert_exporter": "python",
   "pygments_lexer": "ipython3",
   "version": "3.6.6"
  }
 },
 "nbformat": 4,
 "nbformat_minor": 1
}
